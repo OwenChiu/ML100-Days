{
 "cells": [
  {
   "cell_type": "markdown",
   "metadata": {},
   "source": [
    "## Work\n",
    "1. 請嘗試將 preproc_x 替換成以每筆資料的 min/max 進行標準化至 -1 ~ 1 間，再進行訓練\n",
    "2. 請嘗試將 mlp 疊更深 (e.g 5~10 層)，進行訓練後觀察 learning curve 的走勢\n",
    "3. (optional) 請改用 GPU 進行訓練 (如果你有 GPU 的話)，比較使用 CPU 與 GPU 的訓練速度"
   ]
  },
  {
   "cell_type": "code",
   "execution_count": 1,
   "metadata": {},
   "outputs": [
    {
     "data": {
      "text/plain": [
       "'\\nYour code here\\n'"
      ]
     },
     "execution_count": 1,
     "metadata": {},
     "output_type": "execute_result"
    }
   ],
   "source": [
    "## 確認硬體資源\n",
    "\"\"\"\n",
    "Your code here\n",
    "\"\"\"\n"
   ]
  },
  {
   "cell_type": "code",
   "execution_count": 2,
   "metadata": {},
   "outputs": [
    {
     "name": "stderr",
     "output_type": "stream",
     "text": [
      "Using TensorFlow backend.\n"
     ]
    }
   ],
   "source": [
    "import os\n",
    "import keras\n",
    "\n",
    "# Try to enable GPU (optional)\n"
   ]
  },
  {
   "cell_type": "code",
   "execution_count": 3,
   "metadata": {},
   "outputs": [],
   "source": [
    "train, test = keras.datasets.cifar10.load_data()"
   ]
  },
  {
   "cell_type": "code",
   "execution_count": 4,
   "metadata": {},
   "outputs": [],
   "source": [
    "## 資料前處理\n",
    "\"\"\"\n",
    "Your code here\n",
    "\"\"\"\n",
    "def preproc_x(x, flatten=True):\n",
    "    x = (x - 127.5)/ 127.5\n",
    "    if flatten:\n",
    "        x = x.reshape((len(x), -1))\n",
    "    return x\n",
    "\n",
    "def preproc_y(y, num_classes=10):\n",
    "    if y.shape[-1] == 1:\n",
    "        y = keras.utils.to_categorical(y, num_classes)\n",
    "    return y"
   ]
  },
  {
   "cell_type": "code",
   "execution_count": 5,
   "metadata": {},
   "outputs": [],
   "source": [
    "x_train, y_train = train\n",
    "x_test, y_test = test\n",
    "\n",
    "# Preproc the inputs\n",
    "x_train = preproc_x(x_train)\n",
    "x_test = preproc_x(x_test)\n",
    "\n",
    "# Preprc the outputs\n",
    "y_train = preproc_y(y_train)\n",
    "y_test = preproc_y(y_test)"
   ]
  },
  {
   "cell_type": "code",
   "execution_count": 6,
   "metadata": {},
   "outputs": [
    {
     "name": "stdout",
     "output_type": "stream",
     "text": [
      "_________________________________________________________________\n",
      "Layer (type)                 Output Shape              Param #   \n",
      "=================================================================\n",
      "input_1 (InputLayer)         (None, 3072)              0         \n",
      "_________________________________________________________________\n",
      "hidden_layer1 (Dense)        (None, 512)               1573376   \n",
      "_________________________________________________________________\n",
      "hidden_layer2 (Dense)        (None, 256)               131328    \n",
      "_________________________________________________________________\n",
      "hidden_layer3 (Dense)        (None, 128)               32896     \n",
      "_________________________________________________________________\n",
      "hidden_layer4 (Dense)        (None, 64)                8256      \n",
      "_________________________________________________________________\n",
      "hidden_layer5 (Dense)        (None, 32)                2080      \n",
      "_________________________________________________________________\n",
      "output (Dense)               (None, 10)                330       \n",
      "=================================================================\n",
      "Total params: 1,748,266\n",
      "Trainable params: 1,748,266\n",
      "Non-trainable params: 0\n",
      "_________________________________________________________________\n"
     ]
    }
   ],
   "source": [
    "\"\"\"\n",
    "Your code here\n",
    "\"\"\"\n",
    "def build_mlp(input_shape, output_units=10, num_neurons=[512, 256, 128, 64, 32]):\n",
    "    input_layer = keras.layers.Input(input_shape)\n",
    "    \n",
    "    for i, n_units in enumerate(num_neurons):\n",
    "        if i == 0:\n",
    "            x = keras.layers.Dense(units=n_units, activation=\"relu\", name=\"hidden_layer\"+str(i+1))(input_layer)\n",
    "        else:\n",
    "            x = keras.layers.Dense(units=n_units, activation=\"relu\", name=\"hidden_layer\"+str(i+1))(x)\n",
    "    \n",
    "    out = keras.layers.Dense(units=output_units, activation=\"softmax\", name=\"output\")(x)\n",
    "    \n",
    "    model = keras.models.Model(inputs=[input_layer], outputs=[out])\n",
    "    return model\n",
    "\n",
    "model = build_mlp(input_shape=x_train.shape[1:])\n",
    "model.summary()"
   ]
  },
  {
   "cell_type": "code",
   "execution_count": 7,
   "metadata": {},
   "outputs": [],
   "source": [
    "## 超參數設定\n",
    "LEARNING_RATE = 0.001\n",
    "EPOCHS = 100\n",
    "BATCH_SIZE = 256"
   ]
  },
  {
   "cell_type": "code",
   "execution_count": 8,
   "metadata": {},
   "outputs": [],
   "source": [
    "optimizer = keras.optimizers.Adam(lr=LEARNING_RATE)\n",
    "model.compile(loss=\"categorical_crossentropy\", metrics=[\"accuracy\"], optimizer=optimizer)"
   ]
  },
  {
   "cell_type": "code",
   "execution_count": 9,
   "metadata": {},
   "outputs": [
    {
     "name": "stdout",
     "output_type": "stream",
     "text": [
      "Train on 50000 samples, validate on 10000 samples\n",
      "Epoch 1/100\n",
      "50000/50000 [==============================] - 4s 77us/step - loss: 1.7415 - acc: 0.3843 - val_loss: 1.5650 - val_acc: 0.4496\n",
      "Epoch 2/100\n",
      "50000/50000 [==============================] - 2s 45us/step - loss: 1.4845 - acc: 0.4769 - val_loss: 1.4478 - val_acc: 0.4893\n",
      "Epoch 3/100\n",
      "50000/50000 [==============================] - 2s 44us/step - loss: 1.3609 - acc: 0.5221 - val_loss: 1.4347 - val_acc: 0.4938\n",
      "Epoch 4/100\n",
      "50000/50000 [==============================] - 2s 43us/step - loss: 1.2660 - acc: 0.5534 - val_loss: 1.3571 - val_acc: 0.5172\n",
      "Epoch 5/100\n",
      "50000/50000 [==============================] - 2s 43us/step - loss: 1.1810 - acc: 0.5839 - val_loss: 1.3670 - val_acc: 0.5263\n",
      "Epoch 6/100\n",
      "50000/50000 [==============================] - 2s 44us/step - loss: 1.1042 - acc: 0.6126 - val_loss: 1.3774 - val_acc: 0.5259\n",
      "Epoch 7/100\n",
      "50000/50000 [==============================] - 2s 45us/step - loss: 1.0277 - acc: 0.6409 - val_loss: 1.3615 - val_acc: 0.5346\n",
      "Epoch 8/100\n",
      "50000/50000 [==============================] - 2s 44us/step - loss: 0.9514 - acc: 0.6637 - val_loss: 1.3753 - val_acc: 0.5422\n",
      "Epoch 9/100\n",
      "50000/50000 [==============================] - 2s 43us/step - loss: 0.8770 - acc: 0.6907 - val_loss: 1.4023 - val_acc: 0.5413\n",
      "Epoch 10/100\n",
      "50000/50000 [==============================] - 2s 43us/step - loss: 0.8112 - acc: 0.7143 - val_loss: 1.4755 - val_acc: 0.5368\n",
      "Epoch 11/100\n",
      "50000/50000 [==============================] - 2s 43us/step - loss: 0.7357 - acc: 0.7398 - val_loss: 1.4930 - val_acc: 0.5415\n",
      "Epoch 12/100\n",
      "50000/50000 [==============================] - 2s 42us/step - loss: 0.6746 - acc: 0.7619 - val_loss: 1.5716 - val_acc: 0.5362\n",
      "Epoch 13/100\n",
      "50000/50000 [==============================] - 2s 42us/step - loss: 0.6255 - acc: 0.7798 - val_loss: 1.6067 - val_acc: 0.5384\n",
      "Epoch 14/100\n",
      "50000/50000 [==============================] - 2s 42us/step - loss: 0.5647 - acc: 0.8015 - val_loss: 1.7098 - val_acc: 0.5356\n",
      "Epoch 15/100\n",
      "50000/50000 [==============================] - 2s 41us/step - loss: 0.5126 - acc: 0.8197 - val_loss: 1.8085 - val_acc: 0.5349\n",
      "Epoch 16/100\n",
      "50000/50000 [==============================] - 2s 42us/step - loss: 0.4656 - acc: 0.8369 - val_loss: 1.9587 - val_acc: 0.5263\n",
      "Epoch 17/100\n",
      "50000/50000 [==============================] - 2s 41us/step - loss: 0.4294 - acc: 0.8478 - val_loss: 1.9498 - val_acc: 0.5281\n",
      "Epoch 18/100\n",
      "50000/50000 [==============================] - 2s 42us/step - loss: 0.3852 - acc: 0.8645 - val_loss: 2.0180 - val_acc: 0.5276\n",
      "Epoch 19/100\n",
      "50000/50000 [==============================] - 2s 42us/step - loss: 0.3549 - acc: 0.8765 - val_loss: 2.1552 - val_acc: 0.5339\n",
      "Epoch 20/100\n",
      "50000/50000 [==============================] - 2s 42us/step - loss: 0.3343 - acc: 0.8832 - val_loss: 2.2277 - val_acc: 0.5278\n",
      "Epoch 21/100\n",
      "50000/50000 [==============================] - 2s 42us/step - loss: 0.3079 - acc: 0.8930 - val_loss: 2.3198 - val_acc: 0.5330\n",
      "Epoch 22/100\n",
      "50000/50000 [==============================] - 2s 42us/step - loss: 0.2823 - acc: 0.9016 - val_loss: 2.4275 - val_acc: 0.5278\n",
      "Epoch 23/100\n",
      "50000/50000 [==============================] - 2s 42us/step - loss: 0.2903 - acc: 0.8990 - val_loss: 2.4671 - val_acc: 0.5326\n",
      "Epoch 24/100\n",
      "50000/50000 [==============================] - 2s 42us/step - loss: 0.2576 - acc: 0.9109 - val_loss: 2.5245 - val_acc: 0.5312\n",
      "Epoch 25/100\n",
      "50000/50000 [==============================] - 2s 42us/step - loss: 0.2355 - acc: 0.9194 - val_loss: 2.6619 - val_acc: 0.5282\n",
      "Epoch 26/100\n",
      "50000/50000 [==============================] - 2s 42us/step - loss: 0.2256 - acc: 0.9206 - val_loss: 2.7013 - val_acc: 0.5290\n",
      "Epoch 27/100\n",
      "50000/50000 [==============================] - 2s 42us/step - loss: 0.2157 - acc: 0.9253 - val_loss: 2.7189 - val_acc: 0.5286\n",
      "Epoch 28/100\n",
      "50000/50000 [==============================] - 2s 42us/step - loss: 0.2049 - acc: 0.9291 - val_loss: 2.8016 - val_acc: 0.5263\n",
      "Epoch 29/100\n",
      "50000/50000 [==============================] - 2s 42us/step - loss: 0.1905 - acc: 0.9342 - val_loss: 2.8573 - val_acc: 0.5304\n",
      "Epoch 30/100\n",
      "50000/50000 [==============================] - 2s 42us/step - loss: 0.1988 - acc: 0.9319 - val_loss: 2.9039 - val_acc: 0.5377\n",
      "Epoch 31/100\n",
      "50000/50000 [==============================] - 2s 42us/step - loss: 0.1821 - acc: 0.9372 - val_loss: 2.9021 - val_acc: 0.5278\n",
      "Epoch 32/100\n",
      "50000/50000 [==============================] - 2s 43us/step - loss: 0.1867 - acc: 0.9354 - val_loss: 2.9026 - val_acc: 0.5404\n",
      "Epoch 33/100\n",
      "50000/50000 [==============================] - 2s 42us/step - loss: 0.1724 - acc: 0.9416 - val_loss: 2.9697 - val_acc: 0.5331\n",
      "Epoch 34/100\n",
      "50000/50000 [==============================] - 2s 42us/step - loss: 0.1574 - acc: 0.9460 - val_loss: 3.0755 - val_acc: 0.5335\n",
      "Epoch 35/100\n",
      "50000/50000 [==============================] - 2s 42us/step - loss: 0.1391 - acc: 0.9519 - val_loss: 3.1727 - val_acc: 0.5339\n",
      "Epoch 36/100\n",
      "50000/50000 [==============================] - 2s 42us/step - loss: 0.1611 - acc: 0.9451 - val_loss: 3.1180 - val_acc: 0.5323\n",
      "Epoch 37/100\n",
      "50000/50000 [==============================] - 2s 42us/step - loss: 0.1609 - acc: 0.9461 - val_loss: 3.0990 - val_acc: 0.5411\n",
      "Epoch 38/100\n",
      "50000/50000 [==============================] - 2s 42us/step - loss: 0.1474 - acc: 0.9497 - val_loss: 3.1581 - val_acc: 0.5341\n",
      "Epoch 39/100\n",
      "50000/50000 [==============================] - 2s 42us/step - loss: 0.1464 - acc: 0.9505 - val_loss: 3.2006 - val_acc: 0.5264\n",
      "Epoch 40/100\n",
      "50000/50000 [==============================] - 2s 42us/step - loss: 0.1464 - acc: 0.9493 - val_loss: 3.2224 - val_acc: 0.5355\n",
      "Epoch 41/100\n",
      "50000/50000 [==============================] - 2s 42us/step - loss: 0.1305 - acc: 0.9551 - val_loss: 3.3575 - val_acc: 0.5314\n",
      "Epoch 42/100\n",
      "50000/50000 [==============================] - 2s 42us/step - loss: 0.1384 - acc: 0.9521 - val_loss: 3.2525 - val_acc: 0.5354\n",
      "Epoch 43/100\n",
      "50000/50000 [==============================] - 2s 42us/step - loss: 0.1222 - acc: 0.9583 - val_loss: 3.3335 - val_acc: 0.5295\n",
      "Epoch 44/100\n",
      "50000/50000 [==============================] - 2s 42us/step - loss: 0.1312 - acc: 0.9557 - val_loss: 3.3537 - val_acc: 0.5294\n",
      "Epoch 45/100\n",
      "50000/50000 [==============================] - 2s 42us/step - loss: 0.1300 - acc: 0.9568 - val_loss: 3.3983 - val_acc: 0.5296\n",
      "Epoch 46/100\n",
      "50000/50000 [==============================] - 2s 42us/step - loss: 0.1164 - acc: 0.9602 - val_loss: 3.5376 - val_acc: 0.5286\n",
      "Epoch 47/100\n",
      "50000/50000 [==============================] - 2s 42us/step - loss: 0.1360 - acc: 0.9544 - val_loss: 3.3032 - val_acc: 0.5241\n",
      "Epoch 48/100\n",
      "50000/50000 [==============================] - 2s 42us/step - loss: 0.0952 - acc: 0.9684 - val_loss: 3.4850 - val_acc: 0.5311\n",
      "Epoch 49/100\n",
      "50000/50000 [==============================] - 2s 42us/step - loss: 0.0942 - acc: 0.9680 - val_loss: 3.5955 - val_acc: 0.5219\n",
      "Epoch 50/100\n",
      "50000/50000 [==============================] - 2s 42us/step - loss: 0.1268 - acc: 0.9579 - val_loss: 3.5046 - val_acc: 0.5309\n",
      "Epoch 51/100\n",
      "50000/50000 [==============================] - 2s 42us/step - loss: 0.1298 - acc: 0.9571 - val_loss: 3.4567 - val_acc: 0.5328\n",
      "Epoch 52/100\n",
      "50000/50000 [==============================] - 2s 42us/step - loss: 0.1077 - acc: 0.9634 - val_loss: 3.5094 - val_acc: 0.5222\n",
      "Epoch 53/100\n",
      "50000/50000 [==============================] - 2s 43us/step - loss: 0.1063 - acc: 0.9642 - val_loss: 3.6254 - val_acc: 0.5270\n",
      "Epoch 54/100\n",
      "50000/50000 [==============================] - 2s 42us/step - loss: 0.1072 - acc: 0.9649 - val_loss: 3.5920 - val_acc: 0.5297\n",
      "Epoch 55/100\n",
      "50000/50000 [==============================] - 2s 42us/step - loss: 0.0911 - acc: 0.9695 - val_loss: 3.6496 - val_acc: 0.5351\n",
      "Epoch 56/100\n",
      "50000/50000 [==============================] - 2s 42us/step - loss: 0.1096 - acc: 0.9644 - val_loss: 3.5718 - val_acc: 0.5312\n",
      "Epoch 57/100\n",
      "50000/50000 [==============================] - 2s 42us/step - loss: 0.1010 - acc: 0.9658 - val_loss: 3.5390 - val_acc: 0.5326\n",
      "Epoch 58/100\n",
      "50000/50000 [==============================] - 2s 42us/step - loss: 0.0796 - acc: 0.9739 - val_loss: 3.6785 - val_acc: 0.5365\n",
      "Epoch 59/100\n"
     ]
    },
    {
     "name": "stdout",
     "output_type": "stream",
     "text": [
      "50000/50000 [==============================] - 2s 42us/step - loss: 0.0941 - acc: 0.9690 - val_loss: 3.6956 - val_acc: 0.5254\n",
      "Epoch 60/100\n",
      "50000/50000 [==============================] - 2s 42us/step - loss: 0.0864 - acc: 0.9713 - val_loss: 3.6172 - val_acc: 0.5368\n",
      "Epoch 61/100\n",
      "50000/50000 [==============================] - 2s 42us/step - loss: 0.1106 - acc: 0.9634 - val_loss: 3.6983 - val_acc: 0.5324\n",
      "Epoch 62/100\n",
      "50000/50000 [==============================] - 2s 42us/step - loss: 0.0997 - acc: 0.9669 - val_loss: 3.6632 - val_acc: 0.5316\n",
      "Epoch 63/100\n",
      "50000/50000 [==============================] - 2s 41us/step - loss: 0.0919 - acc: 0.9699 - val_loss: 3.6807 - val_acc: 0.5314\n",
      "Epoch 64/100\n",
      "50000/50000 [==============================] - 2s 42us/step - loss: 0.1055 - acc: 0.9651 - val_loss: 3.5210 - val_acc: 0.5411\n",
      "Epoch 65/100\n",
      "50000/50000 [==============================] - 2s 42us/step - loss: 0.0831 - acc: 0.9727 - val_loss: 3.6505 - val_acc: 0.5355\n",
      "Epoch 66/100\n",
      "50000/50000 [==============================] - 2s 42us/step - loss: 0.0775 - acc: 0.9747 - val_loss: 3.7071 - val_acc: 0.5343\n",
      "Epoch 67/100\n",
      "50000/50000 [==============================] - 2s 42us/step - loss: 0.1080 - acc: 0.9650 - val_loss: 3.6581 - val_acc: 0.5244\n",
      "Epoch 68/100\n",
      "50000/50000 [==============================] - 2s 42us/step - loss: 0.0940 - acc: 0.9693 - val_loss: 3.6813 - val_acc: 0.5354\n",
      "Epoch 69/100\n",
      "50000/50000 [==============================] - 2s 42us/step - loss: 0.0738 - acc: 0.9760 - val_loss: 3.7602 - val_acc: 0.5315\n",
      "Epoch 70/100\n",
      "50000/50000 [==============================] - 2s 42us/step - loss: 0.0841 - acc: 0.9715 - val_loss: 3.6957 - val_acc: 0.5263\n",
      "Epoch 71/100\n",
      "50000/50000 [==============================] - 2s 41us/step - loss: 0.0721 - acc: 0.9762 - val_loss: 3.8154 - val_acc: 0.5323\n",
      "Epoch 72/100\n",
      "50000/50000 [==============================] - 2s 41us/step - loss: 0.0952 - acc: 0.9694 - val_loss: 3.8280 - val_acc: 0.5300\n",
      "Epoch 73/100\n",
      "50000/50000 [==============================] - 2s 41us/step - loss: 0.0709 - acc: 0.9765 - val_loss: 3.7131 - val_acc: 0.5327\n",
      "Epoch 74/100\n",
      "50000/50000 [==============================] - 2s 41us/step - loss: 0.0743 - acc: 0.9755 - val_loss: 3.8262 - val_acc: 0.5360\n",
      "Epoch 75/100\n",
      "50000/50000 [==============================] - 2s 41us/step - loss: 0.1005 - acc: 0.9683 - val_loss: 3.7198 - val_acc: 0.5308\n",
      "Epoch 76/100\n",
      "50000/50000 [==============================] - 2s 41us/step - loss: 0.0722 - acc: 0.9765 - val_loss: 3.7318 - val_acc: 0.5292\n",
      "Epoch 77/100\n",
      "50000/50000 [==============================] - 2s 41us/step - loss: 0.0606 - acc: 0.9799 - val_loss: 3.8621 - val_acc: 0.5362\n",
      "Epoch 78/100\n",
      "50000/50000 [==============================] - 2s 41us/step - loss: 0.0695 - acc: 0.9778 - val_loss: 3.7978 - val_acc: 0.5334\n",
      "Epoch 79/100\n",
      "50000/50000 [==============================] - 2s 42us/step - loss: 0.1022 - acc: 0.9680 - val_loss: 3.7614 - val_acc: 0.5305\n",
      "Epoch 80/100\n",
      "50000/50000 [==============================] - 2s 42us/step - loss: 0.0723 - acc: 0.9767 - val_loss: 3.9019 - val_acc: 0.5271\n",
      "Epoch 81/100\n",
      "50000/50000 [==============================] - 2s 42us/step - loss: 0.0695 - acc: 0.9768 - val_loss: 3.8329 - val_acc: 0.5345\n",
      "Epoch 82/100\n",
      "50000/50000 [==============================] - 2s 42us/step - loss: 0.0685 - acc: 0.9785 - val_loss: 3.8092 - val_acc: 0.5302\n",
      "Epoch 83/100\n",
      "50000/50000 [==============================] - 2s 42us/step - loss: 0.0809 - acc: 0.9745 - val_loss: 3.8190 - val_acc: 0.5306\n",
      "Epoch 84/100\n",
      "50000/50000 [==============================] - 2s 41us/step - loss: 0.0737 - acc: 0.9765 - val_loss: 3.7707 - val_acc: 0.5325\n",
      "Epoch 85/100\n",
      "50000/50000 [==============================] - 2s 42us/step - loss: 0.0697 - acc: 0.9775 - val_loss: 3.9193 - val_acc: 0.5291\n",
      "Epoch 86/100\n",
      "50000/50000 [==============================] - 2s 42us/step - loss: 0.0519 - acc: 0.9833 - val_loss: 3.8408 - val_acc: 0.5334\n",
      "Epoch 87/100\n",
      "50000/50000 [==============================] - 2s 42us/step - loss: 0.0817 - acc: 0.9736 - val_loss: 3.8762 - val_acc: 0.5257\n",
      "Epoch 88/100\n",
      "50000/50000 [==============================] - 2s 42us/step - loss: 0.0531 - acc: 0.9833 - val_loss: 3.8753 - val_acc: 0.5390\n",
      "Epoch 89/100\n",
      "50000/50000 [==============================] - 2s 42us/step - loss: 0.0737 - acc: 0.9759 - val_loss: 3.9371 - val_acc: 0.5323\n",
      "Epoch 90/100\n",
      "50000/50000 [==============================] - 2s 42us/step - loss: 0.0758 - acc: 0.9757 - val_loss: 3.8184 - val_acc: 0.5337\n",
      "Epoch 91/100\n",
      "50000/50000 [==============================] - 2s 42us/step - loss: 0.0962 - acc: 0.9690 - val_loss: 3.8557 - val_acc: 0.5310\n",
      "Epoch 92/100\n",
      "50000/50000 [==============================] - 2s 42us/step - loss: 0.0661 - acc: 0.9783 - val_loss: 3.9767 - val_acc: 0.5290\n",
      "Epoch 93/100\n",
      "50000/50000 [==============================] - 2s 42us/step - loss: 0.0684 - acc: 0.9783 - val_loss: 3.8473 - val_acc: 0.5369\n",
      "Epoch 94/100\n",
      "50000/50000 [==============================] - 2s 43us/step - loss: 0.0524 - acc: 0.9831 - val_loss: 3.8819 - val_acc: 0.5401\n",
      "Epoch 95/100\n",
      "50000/50000 [==============================] - 2s 42us/step - loss: 0.0377 - acc: 0.9875 - val_loss: 4.0509 - val_acc: 0.5268\n",
      "Epoch 96/100\n",
      "50000/50000 [==============================] - 2s 42us/step - loss: 0.0727 - acc: 0.9758 - val_loss: 3.8889 - val_acc: 0.5377\n",
      "Epoch 97/100\n",
      "50000/50000 [==============================] - 2s 42us/step - loss: 0.0724 - acc: 0.9771 - val_loss: 3.8135 - val_acc: 0.5429\n",
      "Epoch 98/100\n",
      "50000/50000 [==============================] - 2s 42us/step - loss: 0.0634 - acc: 0.9799 - val_loss: 3.9254 - val_acc: 0.5294\n",
      "Epoch 99/100\n",
      "50000/50000 [==============================] - 2s 41us/step - loss: 0.0650 - acc: 0.9791 - val_loss: 3.9094 - val_acc: 0.5301\n",
      "Epoch 100/100\n",
      "50000/50000 [==============================] - 2s 42us/step - loss: 0.0575 - acc: 0.9814 - val_loss: 3.9793 - val_acc: 0.5352\n"
     ]
    },
    {
     "data": {
      "text/plain": [
       "<keras.callbacks.History at 0x1be01561e10>"
      ]
     },
     "execution_count": 9,
     "metadata": {},
     "output_type": "execute_result"
    }
   ],
   "source": [
    "model.fit(x_train, y_train, \n",
    "          epochs=EPOCHS, \n",
    "          batch_size=BATCH_SIZE, \n",
    "          validation_data=(x_test, y_test), \n",
    "          shuffle=True)"
   ]
  },
  {
   "cell_type": "code",
   "execution_count": 11,
   "metadata": {},
   "outputs": [
    {
     "data": {
      "image/png": "[encoded data removed]",
      "text/plain": [
       "<Figure size 432x288 with 1 Axes>"
      ]
     },
     "metadata": {
      "needs_background": "light"
     },
     "output_type": "display_data"
    },
    {
     "data": {
      "image/png": "[encoded data removed]",
      "text/plain": [
       "<Figure size 432x288 with 1 Axes>"
      ]
     },
     "metadata": {
      "needs_background": "light"
     },
     "output_type": "display_data"
    }
   ],
   "source": [
    "import matplotlib.pyplot as plt\n",
    "\n",
    "\n",
    "train_loss = model.history.history[\"loss\"]\n",
    "valid_loss = model.history.history[\"val_loss\"]\n",
    "\n",
    "train_acc = model.history.history[\"acc\"]\n",
    "valid_acc = model.history.history[\"val_acc\"]\n",
    "\n",
    "plt.plot(range(len(train_loss)), train_loss, label=\"train loss\")\n",
    "plt.plot(range(len(valid_loss)), valid_loss, label=\"valid loss\")\n",
    "plt.legend()\n",
    "plt.title(\"Loss\")\n",
    "plt.show()\n",
    "\n",
    "plt.plot(range(len(train_acc)), train_acc, label=\"train accuracy\")\n",
    "plt.plot(range(len(valid_acc)), valid_acc, label=\"valid accuracy\")\n",
    "plt.legend()\n",
    "plt.title(\"Accuracy\")\n",
    "plt.show()"
   ]
  },
  {
   "cell_type": "code",
   "execution_count": null,
   "metadata": {},
   "outputs": [],
   "source": []
  }
 ],
 "metadata": {
  "kernelspec": {
   "display_name": "Python 3",
   "language": "python",
   "name": "python3"
  },
  "language_info": {
   "codemirror_mode": {
    "name": "ipython",
    "version": 3
   },
   "file_extension": ".py",
   "mimetype": "text/x-python",
   "name": "python",
   "nbconvert_exporter": "python",
   "pygments_lexer": "ipython3",
   "version": "3.6.7"
  }
 },
 "nbformat": 4,
 "nbformat_minor": 2
}
