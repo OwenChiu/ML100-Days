{
 "cells": [
  {
   "cell_type": "markdown",
   "metadata": {},
   "source": [
    "## Work\n",
    "1. 試比較 save_best_only 與否的差異\n",
    "2. 請僅存入將 save_weights_only 設定為 True, 並嘗試 reset ipynb 並將模型與權重重新建回並預測 x_test"
   ]
  },
  {
   "cell_type": "code",
   "execution_count": 1,
   "metadata": {},
   "outputs": [
    {
     "name": "stderr",
     "output_type": "stream",
     "text": [
      "Using TensorFlow backend.\n"
     ]
    }
   ],
   "source": [
    "import os\n",
    "import keras\n",
    "\n",
    "# Disable GPU\n",
    "os.environ[\"CUDA_VISIBLE_DEVICES\"] = \"\""
   ]
  },
  {
   "cell_type": "code",
   "execution_count": 2,
   "metadata": {},
   "outputs": [],
   "source": [
    "train, test = keras.datasets.cifar10.load_data()"
   ]
  },
  {
   "cell_type": "code",
   "execution_count": 3,
   "metadata": {},
   "outputs": [],
   "source": [
    "## 資料前處理\n",
    "def preproc_x(x, flatten=True):\n",
    "    x = x / 255.\n",
    "    if flatten:\n",
    "        x = x.reshape((len(x), -1))\n",
    "    return x\n",
    "\n",
    "def preproc_y(y, num_classes=10):\n",
    "    if y.shape[-1] == 1:\n",
    "        y = keras.utils.to_categorical(y, num_classes)\n",
    "    return y    "
   ]
  },
  {
   "cell_type": "code",
   "execution_count": 4,
   "metadata": {},
   "outputs": [],
   "source": [
    "x_train, y_train = train\n",
    "x_test, y_test = test\n",
    "\n",
    "# Preproc the inputs\n",
    "x_train = preproc_x(x_train)\n",
    "x_test = preproc_x(x_test)\n",
    "\n",
    "# Preprc the outputs\n",
    "y_train = preproc_y(y_train)\n",
    "y_test = preproc_y(y_test)"
   ]
  },
  {
   "cell_type": "code",
   "execution_count": 5,
   "metadata": {},
   "outputs": [],
   "source": [
    "from keras.layers import BatchNormalization\n",
    "def build_mlp(input_shape, output_units=10, num_neurons=[512, 256, 128]):\n",
    "    input_layer = keras.layers.Input(input_shape)\n",
    "    \n",
    "    for i, n_units in enumerate(num_neurons):\n",
    "        if i == 0:\n",
    "            x = keras.layers.Dense(units=n_units, \n",
    "                                   activation=\"relu\", \n",
    "                                   name=\"hidden_layer\"+str(i+1))(input_layer)\n",
    "            x = BatchNormalization()(x)\n",
    "        else:\n",
    "            x = keras.layers.Dense(units=n_units, \n",
    "                                   activation=\"relu\", \n",
    "                                   name=\"hidden_layer\"+str(i+1))(x)\n",
    "            x = BatchNormalization()(x)\n",
    "    \n",
    "    out = keras.layers.Dense(units=output_units, activation=\"softmax\", name=\"output\")(x)\n",
    "    \n",
    "    model = keras.models.Model(inputs=[input_layer], outputs=[out])\n",
    "    return model"
   ]
  },
  {
   "cell_type": "code",
   "execution_count": 6,
   "metadata": {},
   "outputs": [],
   "source": [
    "## 超參數設定\n",
    "\"\"\"\n",
    "Set your hyper-parameters\n",
    "\"\"\"\n",
    "LEARNING_RATE = 1e-3\n",
    "EPOCHS = 50\n",
    "BATCH_SIZE = 1024\n",
    "MOMENTUM = 0.95"
   ]
  },
  {
   "cell_type": "code",
   "execution_count": 7,
   "metadata": {},
   "outputs": [],
   "source": [
    "# 載入 Callbacks\n",
    "from keras.callbacks import ModelCheckpoint\n",
    "\"\"\"\n",
    "Set model checkpoint callbacks\n",
    "\"\"\"\n",
    "from keras.callbacks import ModelCheckpoint\n",
    "\n",
    "model_ckpt = ModelCheckpoint(filepath=\"./tmp.h5\", \n",
    "                             monitor=\"val_loss\", \n",
    "                             save_best_only=False,\n",
    "                             save_weights_only=True)"
   ]
  },
  {
   "cell_type": "code",
   "execution_count": 14,
   "metadata": {
    "scrolled": true
   },
   "outputs": [
    {
     "name": "stdout",
     "output_type": "stream",
     "text": [
      "_________________________________________________________________\n",
      "Layer (type)                 Output Shape              Param #   \n",
      "=================================================================\n",
      "input_2 (InputLayer)         (None, 3072)              0         \n",
      "_________________________________________________________________\n",
      "hidden_layer1 (Dense)        (None, 512)               1573376   \n",
      "_________________________________________________________________\n",
      "batch_normalization_4 (Batch (None, 512)               2048      \n",
      "_________________________________________________________________\n",
      "hidden_layer2 (Dense)        (None, 256)               131328    \n",
      "_________________________________________________________________\n",
      "batch_normalization_5 (Batch (None, 256)               1024      \n",
      "_________________________________________________________________\n",
      "hidden_layer3 (Dense)        (None, 128)               32896     \n",
      "_________________________________________________________________\n",
      "batch_normalization_6 (Batch (None, 128)               512       \n",
      "_________________________________________________________________\n",
      "output (Dense)               (None, 10)                1290      \n",
      "=================================================================\n",
      "Total params: 1,742,474\n",
      "Trainable params: 1,740,682\n",
      "Non-trainable params: 1,792\n",
      "_________________________________________________________________\n",
      "Train on 50000 samples, validate on 10000 samples\n",
      "Epoch 1/50\n",
      "50000/50000 [==============================] - 2s 49us/step - loss: 2.2002 - acc: 0.2668 - val_loss: 2.0729 - val_acc: 0.3225\n",
      "Epoch 2/50\n",
      "50000/50000 [==============================] - 2s 31us/step - loss: 1.7514 - acc: 0.3888 - val_loss: 1.8588 - val_acc: 0.3590\n",
      "Epoch 3/50\n",
      "50000/50000 [==============================] - 2s 31us/step - loss: 1.6253 - acc: 0.4303 - val_loss: 1.7029 - val_acc: 0.4071\n",
      "Epoch 4/50\n",
      "50000/50000 [==============================] - 2s 31us/step - loss: 1.5523 - acc: 0.4557 - val_loss: 1.6253 - val_acc: 0.4258\n",
      "Epoch 5/50\n",
      "50000/50000 [==============================] - 2s 31us/step - loss: 1.4991 - acc: 0.4741 - val_loss: 1.5941 - val_acc: 0.4420\n",
      "Epoch 6/50\n",
      "50000/50000 [==============================] - 2s 31us/step - loss: 1.4536 - acc: 0.4926 - val_loss: 1.5653 - val_acc: 0.4524\n",
      "Epoch 7/50\n",
      "50000/50000 [==============================] - 2s 31us/step - loss: 1.4139 - acc: 0.5055 - val_loss: 1.5483 - val_acc: 0.4528\n",
      "Epoch 8/50\n",
      "50000/50000 [==============================] - 2s 31us/step - loss: 1.3786 - acc: 0.5190 - val_loss: 1.5541 - val_acc: 0.4525\n",
      "Epoch 9/50\n",
      "50000/50000 [==============================] - 2s 32us/step - loss: 1.3468 - acc: 0.5316 - val_loss: 1.5093 - val_acc: 0.4690\n",
      "Epoch 10/50\n",
      "50000/50000 [==============================] - 2s 31us/step - loss: 1.3155 - acc: 0.5420 - val_loss: 1.5082 - val_acc: 0.4680\n",
      "Epoch 11/50\n",
      "50000/50000 [==============================] - 2s 31us/step - loss: 1.2858 - acc: 0.5516 - val_loss: 1.5086 - val_acc: 0.4705\n",
      "Epoch 12/50\n",
      "50000/50000 [==============================] - 2s 31us/step - loss: 1.2599 - acc: 0.5632 - val_loss: 1.4933 - val_acc: 0.4716\n",
      "Epoch 13/50\n",
      "50000/50000 [==============================] - 2s 31us/step - loss: 1.2339 - acc: 0.5723 - val_loss: 1.4773 - val_acc: 0.4823\n",
      "Epoch 14/50\n",
      "50000/50000 [==============================] - 2s 32us/step - loss: 1.2069 - acc: 0.5823 - val_loss: 1.4860 - val_acc: 0.4771\n",
      "Epoch 15/50\n",
      "50000/50000 [==============================] - 2s 31us/step - loss: 1.1826 - acc: 0.5921 - val_loss: 1.4646 - val_acc: 0.4874\n",
      "Epoch 16/50\n",
      "50000/50000 [==============================] - 2s 31us/step - loss: 1.1583 - acc: 0.6010 - val_loss: 1.4681 - val_acc: 0.4862\n",
      "Epoch 17/50\n",
      "50000/50000 [==============================] - 2s 31us/step - loss: 1.1362 - acc: 0.6089 - val_loss: 1.4563 - val_acc: 0.4906\n",
      "Epoch 18/50\n",
      "50000/50000 [==============================] - 2s 31us/step - loss: 1.1128 - acc: 0.6186 - val_loss: 1.4605 - val_acc: 0.4897\n",
      "Epoch 19/50\n",
      "50000/50000 [==============================] - 2s 31us/step - loss: 1.0909 - acc: 0.6275 - val_loss: 1.4571 - val_acc: 0.4914\n",
      "Epoch 20/50\n",
      "50000/50000 [==============================] - 2s 31us/step - loss: 1.0683 - acc: 0.6362 - val_loss: 1.4635 - val_acc: 0.4916\n",
      "Epoch 21/50\n",
      "50000/50000 [==============================] - 2s 32us/step - loss: 1.0458 - acc: 0.6432 - val_loss: 1.4570 - val_acc: 0.4977\n",
      "Epoch 22/50\n",
      "50000/50000 [==============================] - 2s 31us/step - loss: 1.0243 - acc: 0.6527 - val_loss: 1.4652 - val_acc: 0.4940\n",
      "Epoch 23/50\n",
      "50000/50000 [==============================] - 2s 30us/step - loss: 1.0010 - acc: 0.6623 - val_loss: 1.4579 - val_acc: 0.5007\n",
      "Epoch 24/50\n",
      "50000/50000 [==============================] - 2s 31us/step - loss: 0.9796 - acc: 0.6707 - val_loss: 1.4784 - val_acc: 0.4839\n",
      "Epoch 25/50\n",
      "50000/50000 [==============================] - 2s 31us/step - loss: 0.9606 - acc: 0.6773 - val_loss: 1.4567 - val_acc: 0.4946\n",
      "Epoch 26/50\n",
      "50000/50000 [==============================] - 2s 31us/step - loss: 0.9383 - acc: 0.6873 - val_loss: 1.4740 - val_acc: 0.4977\n",
      "Epoch 27/50\n",
      "50000/50000 [==============================] - 2s 31us/step - loss: 0.9179 - acc: 0.6948 - val_loss: 1.4737 - val_acc: 0.4969\n",
      "Epoch 28/50\n",
      "50000/50000 [==============================] - 2s 31us/step - loss: 0.8997 - acc: 0.7013 - val_loss: 1.4983 - val_acc: 0.4925\n",
      "Epoch 29/50\n",
      "50000/50000 [==============================] - 2s 31us/step - loss: 0.8770 - acc: 0.7096 - val_loss: 1.4863 - val_acc: 0.4988\n",
      "Epoch 30/50\n",
      "50000/50000 [==============================] - 2s 31us/step - loss: 0.8585 - acc: 0.7181 - val_loss: 1.4832 - val_acc: 0.4966\n",
      "Epoch 31/50\n",
      "50000/50000 [==============================] - 2s 31us/step - loss: 0.8374 - acc: 0.7254 - val_loss: 1.4903 - val_acc: 0.4982\n",
      "Epoch 32/50\n",
      "50000/50000 [==============================] - 2s 31us/step - loss: 0.8173 - acc: 0.7339 - val_loss: 1.4889 - val_acc: 0.4964\n",
      "Epoch 33/50\n",
      "50000/50000 [==============================] - 2s 31us/step - loss: 0.7987 - acc: 0.7419 - val_loss: 1.4994 - val_acc: 0.4984\n",
      "Epoch 34/50\n",
      "50000/50000 [==============================] - 2s 32us/step - loss: 0.7791 - acc: 0.7474 - val_loss: 1.4996 - val_acc: 0.4966\n",
      "Epoch 35/50\n",
      "50000/50000 [==============================] - 2s 31us/step - loss: 0.7577 - acc: 0.7553 - val_loss: 1.5133 - val_acc: 0.4967\n",
      "Epoch 36/50\n",
      "50000/50000 [==============================] - 2s 31us/step - loss: 0.7379 - acc: 0.7631 - val_loss: 1.5223 - val_acc: 0.4972\n",
      "Epoch 37/50\n",
      "50000/50000 [==============================] - 2s 32us/step - loss: 0.7204 - acc: 0.7703 - val_loss: 1.5368 - val_acc: 0.4952\n",
      "Epoch 38/50\n",
      "50000/50000 [==============================] - 2s 31us/step - loss: 0.7020 - acc: 0.7787 - val_loss: 1.5404 - val_acc: 0.4974\n",
      "Epoch 39/50\n",
      "50000/50000 [==============================] - 2s 31us/step - loss: 0.6800 - acc: 0.7867 - val_loss: 1.5407 - val_acc: 0.4997\n",
      "Epoch 40/50\n",
      "50000/50000 [==============================] - 2s 31us/step - loss: 0.6617 - acc: 0.7952 - val_loss: 1.5697 - val_acc: 0.4918\n",
      "Epoch 41/50\n",
      "50000/50000 [==============================] - 2s 32us/step - loss: 0.6441 - acc: 0.8033 - val_loss: 1.5710 - val_acc: 0.4918\n",
      "Epoch 42/50\n",
      "50000/50000 [==============================] - 2s 31us/step - loss: 0.6276 - acc: 0.8068 - val_loss: 1.5903 - val_acc: 0.4885\n",
      "Epoch 43/50\n",
      "50000/50000 [==============================] - 2s 31us/step - loss: 0.6079 - acc: 0.8165 - val_loss: 1.5885 - val_acc: 0.4906\n",
      "Epoch 44/50\n",
      "50000/50000 [==============================] - 2s 31us/step - loss: 0.5903 - acc: 0.8223 - val_loss: 1.6239 - val_acc: 0.4941\n",
      "Epoch 45/50\n",
      "50000/50000 [==============================] - 2s 31us/step - loss: 0.5707 - acc: 0.8305 - val_loss: 1.6396 - val_acc: 0.4915\n",
      "Epoch 46/50\n",
      "50000/50000 [==============================] - 2s 31us/step - loss: 0.5530 - acc: 0.8392 - val_loss: 1.6394 - val_acc: 0.4903\n",
      "Epoch 47/50\n",
      "50000/50000 [==============================] - 2s 32us/step - loss: 0.5364 - acc: 0.8444 - val_loss: 1.6515 - val_acc: 0.4895\n",
      "Epoch 48/50\n",
      "50000/50000 [==============================] - 2s 33us/step - loss: 0.5185 - acc: 0.8517 - val_loss: 1.6400 - val_acc: 0.4951\n",
      "Epoch 49/50\n",
      "50000/50000 [==============================] - 2s 31us/step - loss: 0.5019 - acc: 0.8584 - val_loss: 1.6554 - val_acc: 0.4874\n"
     ]
    },
    {
     "name": "stdout",
     "output_type": "stream",
     "text": [
      "Epoch 50/50\n",
      "50000/50000 [==============================] - 2s 31us/step - loss: 0.4861 - acc: 0.8648 - val_loss: 1.6777 - val_acc: 0.4927\n"
     ]
    }
   ],
   "source": [
    "\"\"\"\n",
    "Write your training loop and show the results\n",
    "\"\"\"\n",
    "model = build_mlp(input_shape=x_train.shape[1:])\n",
    "model.summary()\n",
    "optimizer = keras.optimizers.SGD(lr=LEARNING_RATE, nesterov=True, momentum=MOMENTUM)\n",
    "model.compile(loss=\"categorical_crossentropy\", metrics=[\"accuracy\"], optimizer=optimizer)\n",
    "\n",
    "model.fit(x_train, y_train, \n",
    "          epochs=EPOCHS, \n",
    "          batch_size=BATCH_SIZE, \n",
    "          validation_data=(x_test, y_test), \n",
    "          shuffle=True,\n",
    "          callbacks=[model_ckpt]\n",
    "         )\n",
    "\n",
    "# Collect results\n",
    "train_loss = model.history.history[\"loss\"]\n",
    "valid_loss = model.history.history[\"val_loss\"]\n",
    "train_acc = model.history.history[\"acc\"]\n",
    "valid_acc = model.history.history[\"val_acc\"]"
   ]
  },
  {
   "cell_type": "code",
   "execution_count": 15,
   "metadata": {},
   "outputs": [
    {
     "name": "stdout",
     "output_type": "stream",
     "text": [
      "10000/10000 [==============================] - 0s 46us/step\n"
     ]
    }
   ],
   "source": [
    "# Load back\n",
    "model.load_weights(\"./tmp.h5\")\n",
    "loss_loadback, acc_loadback = model.evaluate(x_test, y_test)"
   ]
  },
  {
   "cell_type": "code",
   "execution_count": 16,
   "metadata": {},
   "outputs": [
    {
     "data": {
      "image/png": "[encoded data removed]",
      "text/plain": [
       "<Figure size 432x288 with 1 Axes>"
      ]
     },
     "metadata": {
      "needs_background": "light"
     },
     "output_type": "display_data"
    },
    {
     "data": {
      "image/png": "[encoded data removed]",
      "text/plain": [
       "<Figure size 432x288 with 1 Axes>"
      ]
     },
     "metadata": {
      "needs_background": "light"
     },
     "output_type": "display_data"
    }
   ],
   "source": [
    "import matplotlib.pyplot as plt\n",
    "%matplotlib inline\n",
    "\n",
    "plt.plot(range(len(train_loss)), train_loss, label=\"train loss\")\n",
    "plt.plot(range(len(valid_loss)), valid_loss, label=\"valid loss\")\n",
    "plt.hlines(y=loss_loadback, xmin=0, xmax=len(train_loss), colors='r', linestyles='--')\n",
    "plt.legend()\n",
    "plt.title(\"Loss\")\n",
    "plt.show()\n",
    "\n",
    "plt.plot(range(len(train_acc)), train_acc, label=\"train accuracy\")\n",
    "plt.plot(range(len(valid_acc)), valid_acc, label=\"valid accuracy\")\n",
    "plt.hlines(y=acc_loadback, xmin=0, xmax=len(train_loss), colors='r', linestyles='--')\n",
    "plt.legend()\n",
    "plt.title(\"Accuracy\")\n",
    "plt.show()"
   ]
  },
  {
   "cell_type": "code",
   "execution_count": null,
   "metadata": {},
   "outputs": [],
   "source": []
  }
 ],
 "metadata": {
  "anaconda-cloud": {},
  "kernelspec": {
   "display_name": "Python 3",
   "language": "python",
   "name": "python3"
  },
  "language_info": {
   "codemirror_mode": {
    "name": "ipython",
    "version": 3
   },
   "file_extension": ".py",
   "mimetype": "text/x-python",
   "name": "python",
   "nbconvert_exporter": "python",
   "pygments_lexer": "ipython3",
   "version": "3.6.7"
  }
 },
 "nbformat": 4,
 "nbformat_minor": 2
}
